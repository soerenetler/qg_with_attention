{
  "nbformat": 4,
  "nbformat_minor": 0,
  "metadata": {
    "colab": {
      "name": "Untitled18.ipynb",
      "provenance": [],
      "collapsed_sections": [],
      "authorship_tag": "ABX9TyOQvAbsau+wai8gvenZmRok",
      "include_colab_link": true
    },
    "kernelspec": {
      "name": "python3",
      "display_name": "Python 3"
    },
    "language_info": {
      "name": "python"
    }
  },
  "cells": [
    {
      "cell_type": "markdown",
      "metadata": {
        "id": "view-in-github",
        "colab_type": "text"
      },
      "source": [
        "<a href=\"https://colab.research.google.com/github/soerenetler/qg_with_attention/blob/master/evaluate_tedq2.ipynb\" target=\"_parent\"><img src=\"https://colab.research.google.com/assets/colab-badge.svg\" alt=\"Open In Colab\"/></a>"
      ]
    },
    {
      "cell_type": "code",
      "metadata": {
        "colab": {
          "base_uri": "https://localhost:8080/"
        },
        "id": "TArLcD4NI3t4",
        "outputId": "75b0f319-afbc-4714-de03-3ce8d846c1ca"
      },
      "source": [
        "!pip install nltk -U"
      ],
      "execution_count": 1,
      "outputs": [
        {
          "output_type": "stream",
          "text": [
            "Requirement already up-to-date: nltk in /usr/local/lib/python3.7/dist-packages (3.6.2)\n",
            "Requirement already satisfied, skipping upgrade: click in /usr/local/lib/python3.7/dist-packages (from nltk) (7.1.2)\n",
            "Requirement already satisfied, skipping upgrade: joblib in /usr/local/lib/python3.7/dist-packages (from nltk) (1.0.1)\n",
            "Requirement already satisfied, skipping upgrade: regex in /usr/local/lib/python3.7/dist-packages (from nltk) (2019.12.20)\n",
            "Requirement already satisfied, skipping upgrade: tqdm in /usr/local/lib/python3.7/dist-packages (from nltk) (4.41.1)\n"
          ],
          "name": "stdout"
        }
      ]
    },
    {
      "cell_type": "code",
      "metadata": {
        "id": "hcbPDCjZB8a_"
      },
      "source": [
        "from nltk.translate.bleu_score import *\n",
        "from nltk.translate.meteor_score import *\n",
        "import pandas as pd\n",
        "import ast"
      ],
      "execution_count": 2,
      "outputs": []
    },
    {
      "cell_type": "code",
      "metadata": {
        "colab": {
          "base_uri": "https://localhost:8080/"
        },
        "id": "kohSOVGfI1vJ",
        "outputId": "d4e72f8d-5cef-4d6d-cfbc-b36d2ca1e233"
      },
      "source": [
        "import os\n",
        "#os.system(\"git clone https://github.com/soerenetler/squad-question-generation.git\")\n",
        "#os.system(\"git clone https://github.com/soerenetler/spacy_target_answer.git\")\n",
        "#os.system(\"git clone https://github.com/soerenetler/crf_target_answer.git\")\n",
        "\n",
        "from google.colab import drive\n",
        "drive.mount('/content/gdrive')"
      ],
      "execution_count": 3,
      "outputs": [
        {
          "output_type": "stream",
          "text": [
            "Drive already mounted at /content/gdrive; to attempt to forcibly remount, call drive.mount(\"/content/gdrive\", force_remount=True).\n"
          ],
          "name": "stdout"
        }
      ]
    },
    {
      "cell_type": "code",
      "metadata": {
        "id": "Inu48hIgJdJx"
      },
      "source": [
        "import unicodedata\n",
        "def unicode_to_ascii(s):\n",
        "    s = s.lower().strip()\n",
        "    return ''.join(c for c in unicodedata.normalize('NFD', s)\n",
        "        if unicodedata.category(c) != 'Mn')"
      ],
      "execution_count": 4,
      "outputs": []
    },
    {
      "cell_type": "code",
      "metadata": {
        "id": "IcJfmn7sJCkc"
      },
      "source": [
        "path_to_quac = \"/content/gdrive/MyDrive/mt-qg-data/01_data/preprocessedData/quac/question_answer/\"\n",
        "df_quac = pd.read_csv(path_to_quac+\"test.csv\")\n",
        "df_quac[\"answer_sentence_token\"] = [ast.literal_eval(t) for t in df_quac[\"answer_sentence_token\"]]\n",
        "df_quac[\"question_token\"] = [ast.literal_eval(t) for t in df_quac[\"question_token\"]]\n",
        "df_quac[\"question_token\"] = [[unicode_to_ascii(t)for t in question] for question in df_quac[\"question_token\"]]\n",
        "df_quac[\"answer_sentence_token\"] = [[unicode_to_ascii(t)for t in question] for question in df_quac[\"answer_sentence_token\"]]"
      ],
      "execution_count": 5,
      "outputs": []
    },
    {
      "cell_type": "code",
      "metadata": {
        "id": "GhFhLG5iJOIg"
      },
      "source": [
        "path_to_squad = \"/content/gdrive/MyDrive/mt-qg-data/01_data/preprocessedData/squad/question_answer/\"\n",
        "df_squad = pd.read_csv(path_to_squad+\"test.csv\")\n",
        "df_squad[\"answer_sentence_token\"] = [ast.literal_eval(t) for t in df_squad[\"answer_sentence_token\"]]\n",
        "df_squad[\"question_token\"] = [ast.literal_eval(t) for t in df_squad[\"question_token\"]]\n",
        "df_squad[\"question_token\"] = [[unicode_to_ascii(t)for t in question] for question in df_squad[\"question_token\"]]\n",
        "df_squad[\"answer_sentence_token\"] = [[unicode_to_ascii(t)for t in question] for question in df_squad[\"answer_sentence_token\"]]"
      ],
      "execution_count": 6,
      "outputs": []
    },
    {
      "cell_type": "code",
      "metadata": {
        "id": "OzdBDZfHJYvs"
      },
      "source": [
        "path_to_tedq = \"/content/gdrive/MyDrive/mt-qg-data/01_data/preprocessedData/tedq/question_answer/\"\n",
        "df_tedq = pd.read_csv(path_to_tedq+\"test.csv\")\n",
        "df_tedq[\"answer_sentence_token\"] = [ast.literal_eval(t) for t in df_tedq[\"answer_sentence_token\"]]\n",
        "df_tedq[\"question_token\"] = [ast.literal_eval(t) for t in df_tedq[\"question_token\"]]\n",
        "df_tedq[\"question_token\"] = [[unicode_to_ascii(t)for t in question] for question in df_tedq[\"question_token\"]]\n",
        "df_tedq[\"answer_sentence_token\"] = [[unicode_to_ascii(t)for t in question] for question in df_tedq[\"answer_sentence_token\"]]"
      ],
      "execution_count": 7,
      "outputs": []
    },
    {
      "cell_type": "code",
      "metadata": {
        "id": "LKdh_a6aQI_C"
      },
      "source": [
        "true_dict = {\"squad\": df_squad,\n",
        "             \"quac\": df_quac,\n",
        "             \"tedq\": df_tedq}"
      ],
      "execution_count": 8,
      "outputs": []
    },
    {
      "cell_type": "code",
      "metadata": {
        "id": "cx7Z49O5LRde"
      },
      "source": [
        "trained_quac_e2e_quac = \"/content/gdrive/MyDrive/mt-qg-data/00_models/qg_attention/quac/dataset_quac-target_length_20-input_length_40-vocab_input_45000-max_vocab_targ_28000-epochs_15-units_512-batch_64-layer_2-dropout_0.3-pretrained_True-bidirectional_True-answer_units_0-/test.txt\"\n",
        "trained_quac_ans_quac = \"/content/gdrive/MyDrive/mt-qg-data/00_models/qg_attention/quac/dataset_quac-target_length_20-input_length_40-vocab_input_45000-max_vocab_targ_28000-epochs_15-units_512-batch_64-layer_1-dropout_0.3-pretrained_True-bidirectional_True-answer_units_256-/test.txt\"\n",
        "trained_quac_e2e_squad = \"/content/gdrive/MyDrive/mt-qg-data/00_models/qg_attention/quac/dataset_quac-target_length_20-input_length_40-vocab_input_45000-max_vocab_targ_28000-epochs_15-units_512-batch_64-layer_2-dropout_0.3-pretrained_True-bidirectional_True-answer_units_0-/squad_test.txt\"\n",
        "trained_quac_ans_squad = \"/content/gdrive/MyDrive/mt-qg-data/00_models/qg_attention/quac/dataset_quac-target_length_20-input_length_40-vocab_input_45000-max_vocab_targ_28000-epochs_15-units_512-batch_64-layer_1-dropout_0.3-pretrained_True-bidirectional_True-answer_units_256-/squad_test.txt\"\n",
        "trained_quac_e2e_tedq = \"/content/gdrive/MyDrive/mt-qg-data/00_models/qg_attention/quac/dataset_quac-target_length_20-input_length_40-vocab_input_45000-max_vocab_targ_28000-epochs_15-units_512-batch_64-layer_2-dropout_0.3-pretrained_True-bidirectional_True-answer_units_0-/tedq_test.txt\"\n",
        "trained_quac_ans_tedq = \"/content/gdrive/MyDrive/mt-qg-data/00_models/qg_attention/quac/dataset_quac-target_length_20-input_length_40-vocab_input_45000-max_vocab_targ_28000-epochs_15-units_512-batch_64-layer_1-dropout_0.3-pretrained_True-bidirectional_True-answer_units_256-/tedq_test.txt\"\n",
        "\n",
        "\n",
        "trained_squad_e2e_quac = \"/content/gdrive/MyDrive/mt-qg-data/00_models/qg_attention/squad/dataset_squad-target_length_20-input_length_40-vocab_input_45000-max_vocab_targ_28000-epochs_15-units_512-batch_64-layer_2-dropout_0.3-pretrained_True-bidirectional_True-answer_units_0-/quac_test.txt\"\n",
        "trained_squad_ans_quac = \"/content/gdrive/MyDrive/mt-qg-data/00_models/qg_attention/squad/dataset_squad-target_length_20-input_length_40-vocab_input_45000-max_vocab_targ_28000-epochs_15-units_512-batch_64-layer_1-dropout_0.3-pretrained_True-bidirectional_True-answer_units_256-/quac_test.txt\"\n",
        "trained_squad_e2e_squad = \"/content/gdrive/MyDrive/mt-qg-data/00_models/qg_attention/squad/dataset_squad-target_length_20-input_length_40-vocab_input_45000-max_vocab_targ_28000-epochs_15-units_512-batch_64-layer_2-dropout_0.3-pretrained_True-bidirectional_True-answer_units_0-/test.txt\"\n",
        "trained_squad_ans_squad = \"/content/gdrive/MyDrive/mt-qg-data/00_models/qg_attention/squad/dataset_squad-target_length_20-input_length_40-vocab_input_45000-max_vocab_targ_28000-epochs_15-units_512-batch_64-layer_1-dropout_0.3-pretrained_True-bidirectional_True-answer_units_256-/test.txt\"\n",
        "trained_squad_e2e_tedq = \"/content/gdrive/MyDrive/mt-qg-data/00_models/qg_attention/squad/dataset_squad-target_length_20-input_length_40-vocab_input_45000-max_vocab_targ_28000-epochs_15-units_512-batch_64-layer_2-dropout_0.3-pretrained_True-bidirectional_True-answer_units_0-/tedq_test.txt\"\n",
        "trained_squad_ans_tedq = \"/content/gdrive/MyDrive/mt-qg-data/00_models/qg_attention/squad/dataset_squad-target_length_20-input_length_40-vocab_input_45000-max_vocab_targ_28000-epochs_15-units_512-batch_64-layer_1-dropout_0.3-pretrained_True-bidirectional_True-answer_units_256-/tedq_test.txt\""
      ],
      "execution_count": 9,
      "outputs": []
    },
    {
      "cell_type": "code",
      "metadata": {
        "id": "LZcQi9Z4LRde"
      },
      "source": [
        "def get_pred(pred_file):\n",
        "  pred_questions= []\n",
        "  with open(pred_file, \"r\") as f:\n",
        "    for line in f:\n",
        "      token = line.strip().split(\" \")\n",
        "      try:\n",
        "        end_index = token.index(\"<end>\")\n",
        "      except ValueError:\n",
        "        end_index = len(token)\n",
        "      pred_questions.append(token[:end_index])\n",
        "  return pred_questions"
      ],
      "execution_count": 23,
      "outputs": []
    },
    {
      "cell_type": "code",
      "metadata": {
        "id": "F57QeODRKVBX"
      },
      "source": [
        "pred_trained_quac_e2e_quac = get_pred(trained_quac_e2e_quac)\n",
        "pred_trained_quac_ans_quac = get_pred(trained_quac_ans_quac)\n",
        "pred_trained_quac_e2e_squad = get_pred(trained_quac_e2e_squad)\n",
        "pred_trained_quac_ans_squad = get_pred(trained_quac_ans_squad)\n",
        "pred_trained_quac_e2e_tedq = get_pred(trained_quac_e2e_tedq)\n",
        "pred_trained_quac_ans_tedq = get_pred(trained_quac_ans_tedq)\n",
        "\n",
        "pred_trained_squad_e2e_quac = get_pred(trained_squad_e2e_quac)\n",
        "pred_trained_squad_ans_quac = get_pred(trained_squad_ans_quac)\n",
        "pred_trained_squad_e2e_squad = get_pred(trained_squad_e2e_squad)\n",
        "pred_trained_squad_ans_squad = get_pred(trained_squad_ans_squad)\n",
        "pred_trained_squad_e2e_tedq = get_pred(trained_squad_e2e_tedq)\n",
        "pred_trained_squad_ans_tedq = get_pred(trained_squad_ans_tedq)\n",
        "\n",
        "pred_dict = {\"squad\":{\n",
        "                     \"ans\":{\n",
        "                         \"squad\": pred_trained_squad_ans_squad,\n",
        "                         \"quac\": pred_trained_squad_ans_quac,\n",
        "                         \"tedq\": pred_trained_squad_ans_tedq,\n",
        "                     },\n",
        "                     \"e2e\":{\n",
        "                         \"squad\": pred_trained_squad_e2e_squad,\n",
        "                         \"quac\": pred_trained_squad_e2e_quac,\n",
        "                         \"tedq\": pred_trained_squad_e2e_tedq,\n",
        "                     },\n",
        "                     },\n",
        "             \"quac\":{\n",
        "                     \"ans\":{\n",
        "                         \"squad\": pred_trained_quac_ans_squad,\n",
        "                         \"quac\": pred_trained_quac_ans_quac,\n",
        "                         \"tedq\": pred_trained_quac_ans_tedq,\n",
        "                     },\n",
        "                     \"e2e\":{\n",
        "                         \"squad\": pred_trained_quac_e2e_squad,\n",
        "                         \"quac\": pred_trained_quac_e2e_quac,\n",
        "                         \"tedq\": pred_trained_quac_e2e_tedq\n",
        "                     },\n",
        "                     }\n",
        "}"
      ],
      "execution_count": 24,
      "outputs": []
    },
    {
      "cell_type": "code",
      "metadata": {
        "colab": {
          "base_uri": "https://localhost:8080/"
        },
        "id": "Xmx5bqLkKZjI",
        "outputId": "d233d1b1-62cd-4d41-c17a-fecbb017f83a"
      },
      "source": [
        "df_dict = {\"model\":[],\n",
        "           \"train_data\": [],\n",
        "           \"eval_data\": [],\n",
        "           \"bleu\": []}\n",
        "\n",
        "for train_data in [\"squad\", \"quac\"]:\n",
        "  for system in [\"ans\", \"e2e\"]:\n",
        "    for eval_data in [\"squad\", \"quac\", \"tedq\"]:\n",
        "      if train_data == \"squad\" and eval_data == \"squad\" and system==\"ans\":\n",
        "        df_dict[\"model\"].append(system)\n",
        "        df_dict[\"train_data\"].append(train_data)\n",
        "        df_dict[\"eval_data\"].append(eval_data)\n",
        "        df_dict[\"bleu\"].append(4.43)\n",
        "      elif train_data == \"squad\" and eval_data == \"squad\" and system==\"e2e\":\n",
        "        df_dict[\"model\"].append(system)\n",
        "        df_dict[\"train_data\"].append(train_data)\n",
        "        df_dict[\"eval_data\"].append(eval_data)\n",
        "        df_dict[\"bleu\"].append(3.39)\n",
        "\n",
        "      else:\n",
        "        pred_questions = pred_dict[train_data][system][eval_data]\n",
        "        question_token = true_dict[eval_data][\"question_token\"]\n",
        "        print(question_token[0])\n",
        "        print(pred_questions[0])\n",
        "        bleu = corpus_bleu([[question] for question in question_token], pred_questions, weights=(.25,.25,.25,.25))*100\n",
        "        df_dict[\"model\"].append(system)\n",
        "        df_dict[\"train_data\"].append(train_data)\n",
        "        df_dict[\"eval_data\"].append(eval_data)\n",
        "        df_dict[\"bleu\"].append(bleu)"
      ],
      "execution_count": 55,
      "outputs": [
        {
          "output_type": "stream",
          "text": [
            "['what', 'happened', 'in', '1983', '?']\n",
            "['who', 'was', 'beyonce', \"'s\", 'mother', '?']\n",
            "['do', 'you', 'want', 'to', 'live', 'on', 'the', 'road', '?']\n",
            "['what', 'did', 'whitehead', 'say', 'the', '<oov>', 'had', '?']\n",
            "['what', 'happened', 'in', '1983', '?']\n",
            "['in', 'what', 'year', 'did', 'beyonce', \"'s\", 'ex', 'die', '?']\n",
            "['do', 'you', 'want', 'to', 'live', 'on', 'the', 'road', '?']\n",
            "['what', 'is', 'the', 'name', 'of', '<oov>', '?']\n",
            "['in', 'what', 'country', 'is', 'normandy', 'located', '?']\n",
            "['what', 'is', 'the', 'name', 'of', 'one', 'of', 'the', 'name', '?']\n",
            "['what', 'happened', 'in', '1983', '?']\n",
            "['did', 'she', 'have', 'children', '?']\n",
            "['do', 'you', 'want', 'to', 'live', 'on', 'the', 'road', '?']\n",
            "['what', 'else', 'did', 'he', 'do']\n",
            "['in', 'what', 'country', 'is', 'normandy', 'located', '?']\n",
            "['are', 'there', 'any', 'other', 'interesting', 'aspects', 'about', 'this', 'article', '?']\n",
            "['what', 'happened', 'in', '1983', '?']\n",
            "['did', 'she', 'have', 'any', 'children', '?']\n",
            "['do', 'you', 'want', 'to', 'live', 'on', 'the', 'road', '?']\n",
            "['are', 'there', 'any', 'other', 'interesting', 'aspects', 'about', 'this', 'article', '?']\n"
          ],
          "name": "stdout"
        }
      ]
    },
    {
      "cell_type": "code",
      "metadata": {
        "id": "8-66IrjZv9Jk"
      },
      "source": [
        ""
      ],
      "execution_count": 55,
      "outputs": []
    },
    {
      "cell_type": "code",
      "metadata": {
        "id": "3e2BRt_yv7_4"
      },
      "source": [
        "result_df = pd.DataFrame(df_dict)"
      ],
      "execution_count": 56,
      "outputs": []
    },
    {
      "cell_type": "code",
      "metadata": {
        "id": "N-RAZEfGQxKX"
      },
      "source": [
        "import plotly.express as px"
      ],
      "execution_count": 57,
      "outputs": []
    },
    {
      "cell_type": "code",
      "metadata": {
        "colab": {
          "base_uri": "https://localhost:8080/",
          "height": 817
        },
        "id": "_CUuOtJQQ3iW",
        "outputId": "f9cc1200-c452-4203-b25c-bee5bfb02059"
      },
      "source": [
        "fig = px.bar(result_df, x=\"eval_data\", y=\"bleu\", facet_col=\"model\", facet_row=\"train_data\", height=800)\n",
        "fig.update_layout(font=dict(size=25))\n",
        "fig.show()"
      ],
      "execution_count": 67,
      "outputs": [
        {
          "output_type": "display_data",
          "data": {
            "text/html": [
              "<html>\n",
              "<head><meta charset=\"utf-8\" /></head>\n",
              "<body>\n",
              "    <div>\n",
              "            <script src=\"https://cdnjs.cloudflare.com/ajax/libs/mathjax/2.7.5/MathJax.js?config=TeX-AMS-MML_SVG\"></script><script type=\"text/javascript\">if (window.MathJax) {MathJax.Hub.Config({SVG: {font: \"STIX-Web\"}});}</script>\n",
              "                <script type=\"text/javascript\">window.PlotlyConfig = {MathJaxConfig: 'local'};</script>\n",
              "        <script src=\"https://cdn.plot.ly/plotly-latest.min.js\"></script>    \n",
              "            <div id=\"e807e29d-2356-4a5d-8f55-510b47f54fab\" class=\"plotly-graph-div\" style=\"height:800px; width:100%;\"></div>\n",
              "            <script type=\"text/javascript\">\n",
              "                \n",
              "                    window.PLOTLYENV=window.PLOTLYENV || {};\n",
              "                    \n",
              "                if (document.getElementById(\"e807e29d-2356-4a5d-8f55-510b47f54fab\")) {\n",
              "                    Plotly.newPlot(\n",
              "                        'e807e29d-2356-4a5d-8f55-510b47f54fab',\n",
              "                        [{\"alignmentgroup\": \"True\", \"hoverlabel\": {\"namelength\": 0}, \"hovertemplate\": \"train_data=squad<br>model=ans<br>eval_data=%{x}<br>bleu=%{y}\", \"legendgroup\": \"\", \"marker\": {\"color\": \"#636efa\"}, \"name\": \"\", \"offsetgroup\": \"\", \"orientation\": \"v\", \"showlegend\": false, \"textposition\": \"auto\", \"type\": \"bar\", \"x\": [\"squad\", \"quac\", \"tedq\"], \"xaxis\": \"x3\", \"y\": [4.43, 1.2741893405824811, 0.4744582644254529], \"yaxis\": \"y3\"}, {\"alignmentgroup\": \"True\", \"hoverlabel\": {\"namelength\": 0}, \"hovertemplate\": \"train_data=squad<br>model=e2e<br>eval_data=%{x}<br>bleu=%{y}\", \"legendgroup\": \"\", \"marker\": {\"color\": \"#636efa\"}, \"name\": \"\", \"offsetgroup\": \"\", \"orientation\": \"v\", \"showlegend\": false, \"textposition\": \"auto\", \"type\": \"bar\", \"x\": [\"squad\", \"quac\", \"tedq\"], \"xaxis\": \"x4\", \"y\": [3.39, 1.0328200056975287, 0.5239119043958607], \"yaxis\": \"y4\"}, {\"alignmentgroup\": \"True\", \"hoverlabel\": {\"namelength\": 0}, \"hovertemplate\": \"train_data=quac<br>model=ans<br>eval_data=%{x}<br>bleu=%{y}\", \"legendgroup\": \"\", \"marker\": {\"color\": \"#636efa\"}, \"name\": \"\", \"offsetgroup\": \"\", \"orientation\": \"v\", \"showlegend\": false, \"textposition\": \"auto\", \"type\": \"bar\", \"x\": [\"squad\", \"quac\", \"tedq\"], \"xaxis\": \"x\", \"y\": [0.39451333447531506, 6.14409812776495, 0.6351073131431004], \"yaxis\": \"y\"}, {\"alignmentgroup\": \"True\", \"hoverlabel\": {\"namelength\": 0}, \"hovertemplate\": \"train_data=quac<br>model=e2e<br>eval_data=%{x}<br>bleu=%{y}\", \"legendgroup\": \"\", \"marker\": {\"color\": \"#636efa\"}, \"name\": \"\", \"offsetgroup\": \"\", \"orientation\": \"v\", \"showlegend\": false, \"textposition\": \"auto\", \"type\": \"bar\", \"x\": [\"squad\", \"quac\", \"tedq\"], \"xaxis\": \"x2\", \"y\": [0.3086822778494159, 7.579352478136707, 0.6162626861889221], \"yaxis\": \"y2\"}],\n",
              "                        {\"annotations\": [{\"font\": {}, \"showarrow\": false, \"text\": \"model=ans\", \"x\": 0.24, \"xanchor\": \"center\", \"xref\": \"paper\", \"y\": 1.0, \"yanchor\": \"bottom\", \"yref\": \"paper\"}, {\"font\": {}, \"showarrow\": false, \"text\": \"model=e2e\", \"x\": 0.74, \"xanchor\": \"center\", \"xref\": \"paper\", \"y\": 1.0, \"yanchor\": \"bottom\", \"yref\": \"paper\"}, {\"font\": {}, \"showarrow\": false, \"text\": \"train_data=quac\", \"textangle\": 90, \"x\": 0.98, \"xanchor\": \"left\", \"xref\": \"paper\", \"y\": 0.2425, \"yanchor\": \"middle\", \"yref\": \"paper\"}, {\"font\": {}, \"showarrow\": false, \"text\": \"train_data=squad\", \"textangle\": 90, \"x\": 0.98, \"xanchor\": \"left\", \"xref\": \"paper\", \"y\": 0.7575000000000001, \"yanchor\": \"middle\", \"yref\": \"paper\"}], \"barmode\": \"relative\", \"font\": {\"size\": 25}, \"height\": 800, \"legend\": {\"tracegroupgap\": 0}, \"margin\": {\"t\": 60}, \"template\": {\"data\": {\"bar\": [{\"error_x\": {\"color\": \"#2a3f5f\"}, \"error_y\": {\"color\": \"#2a3f5f\"}, \"marker\": {\"line\": {\"color\": \"#E5ECF6\", \"width\": 0.5}}, \"type\": \"bar\"}], \"barpolar\": [{\"marker\": {\"line\": {\"color\": \"#E5ECF6\", \"width\": 0.5}}, \"type\": \"barpolar\"}], \"carpet\": [{\"aaxis\": {\"endlinecolor\": \"#2a3f5f\", \"gridcolor\": \"white\", \"linecolor\": \"white\", \"minorgridcolor\": \"white\", \"startlinecolor\": \"#2a3f5f\"}, \"baxis\": {\"endlinecolor\": \"#2a3f5f\", \"gridcolor\": \"white\", \"linecolor\": \"white\", \"minorgridcolor\": \"white\", \"startlinecolor\": \"#2a3f5f\"}, \"type\": \"carpet\"}], \"choropleth\": [{\"colorbar\": {\"outlinewidth\": 0, \"ticks\": \"\"}, \"type\": \"choropleth\"}], \"contour\": [{\"colorbar\": {\"outlinewidth\": 0, \"ticks\": \"\"}, \"colorscale\": [[0.0, \"#0d0887\"], [0.1111111111111111, \"#46039f\"], [0.2222222222222222, \"#7201a8\"], [0.3333333333333333, \"#9c179e\"], [0.4444444444444444, \"#bd3786\"], [0.5555555555555556, \"#d8576b\"], [0.6666666666666666, \"#ed7953\"], [0.7777777777777778, \"#fb9f3a\"], [0.8888888888888888, \"#fdca26\"], [1.0, \"#f0f921\"]], \"type\": \"contour\"}], \"contourcarpet\": [{\"colorbar\": {\"outlinewidth\": 0, \"ticks\": \"\"}, \"type\": \"contourcarpet\"}], \"heatmap\": [{\"colorbar\": {\"outlinewidth\": 0, \"ticks\": \"\"}, \"colorscale\": [[0.0, \"#0d0887\"], [0.1111111111111111, \"#46039f\"], [0.2222222222222222, \"#7201a8\"], [0.3333333333333333, \"#9c179e\"], [0.4444444444444444, \"#bd3786\"], [0.5555555555555556, \"#d8576b\"], [0.6666666666666666, \"#ed7953\"], [0.7777777777777778, \"#fb9f3a\"], [0.8888888888888888, \"#fdca26\"], [1.0, \"#f0f921\"]], \"type\": \"heatmap\"}], \"heatmapgl\": [{\"colorbar\": {\"outlinewidth\": 0, \"ticks\": \"\"}, \"colorscale\": [[0.0, \"#0d0887\"], [0.1111111111111111, \"#46039f\"], [0.2222222222222222, \"#7201a8\"], [0.3333333333333333, \"#9c179e\"], [0.4444444444444444, \"#bd3786\"], [0.5555555555555556, \"#d8576b\"], [0.6666666666666666, \"#ed7953\"], [0.7777777777777778, \"#fb9f3a\"], [0.8888888888888888, \"#fdca26\"], [1.0, \"#f0f921\"]], \"type\": \"heatmapgl\"}], \"histogram\": [{\"marker\": {\"colorbar\": {\"outlinewidth\": 0, \"ticks\": \"\"}}, \"type\": \"histogram\"}], \"histogram2d\": [{\"colorbar\": {\"outlinewidth\": 0, \"ticks\": \"\"}, \"colorscale\": [[0.0, \"#0d0887\"], [0.1111111111111111, \"#46039f\"], [0.2222222222222222, \"#7201a8\"], [0.3333333333333333, \"#9c179e\"], [0.4444444444444444, \"#bd3786\"], [0.5555555555555556, \"#d8576b\"], [0.6666666666666666, \"#ed7953\"], [0.7777777777777778, \"#fb9f3a\"], [0.8888888888888888, \"#fdca26\"], [1.0, \"#f0f921\"]], \"type\": \"histogram2d\"}], \"histogram2dcontour\": [{\"colorbar\": {\"outlinewidth\": 0, \"ticks\": \"\"}, \"colorscale\": [[0.0, \"#0d0887\"], [0.1111111111111111, \"#46039f\"], [0.2222222222222222, \"#7201a8\"], [0.3333333333333333, \"#9c179e\"], [0.4444444444444444, \"#bd3786\"], [0.5555555555555556, \"#d8576b\"], [0.6666666666666666, \"#ed7953\"], [0.7777777777777778, \"#fb9f3a\"], [0.8888888888888888, \"#fdca26\"], [1.0, \"#f0f921\"]], \"type\": \"histogram2dcontour\"}], \"mesh3d\": [{\"colorbar\": {\"outlinewidth\": 0, \"ticks\": \"\"}, \"type\": \"mesh3d\"}], \"parcoords\": [{\"line\": {\"colorbar\": {\"outlinewidth\": 0, \"ticks\": \"\"}}, \"type\": \"parcoords\"}], \"pie\": [{\"automargin\": true, \"type\": \"pie\"}], \"scatter\": [{\"marker\": {\"colorbar\": {\"outlinewidth\": 0, \"ticks\": \"\"}}, \"type\": \"scatter\"}], \"scatter3d\": [{\"line\": {\"colorbar\": {\"outlinewidth\": 0, \"ticks\": \"\"}}, \"marker\": {\"colorbar\": {\"outlinewidth\": 0, \"ticks\": \"\"}}, \"type\": \"scatter3d\"}], \"scattercarpet\": [{\"marker\": {\"colorbar\": {\"outlinewidth\": 0, \"ticks\": \"\"}}, \"type\": \"scattercarpet\"}], \"scattergeo\": [{\"marker\": {\"colorbar\": {\"outlinewidth\": 0, \"ticks\": \"\"}}, \"type\": \"scattergeo\"}], \"scattergl\": [{\"marker\": {\"colorbar\": {\"outlinewidth\": 0, \"ticks\": \"\"}}, \"type\": \"scattergl\"}], \"scattermapbox\": [{\"marker\": {\"colorbar\": {\"outlinewidth\": 0, \"ticks\": \"\"}}, \"type\": \"scattermapbox\"}], \"scatterpolar\": [{\"marker\": {\"colorbar\": {\"outlinewidth\": 0, \"ticks\": \"\"}}, \"type\": \"scatterpolar\"}], \"scatterpolargl\": [{\"marker\": {\"colorbar\": {\"outlinewidth\": 0, \"ticks\": \"\"}}, \"type\": \"scatterpolargl\"}], \"scatterternary\": [{\"marker\": {\"colorbar\": {\"outlinewidth\": 0, \"ticks\": \"\"}}, \"type\": \"scatterternary\"}], \"surface\": [{\"colorbar\": {\"outlinewidth\": 0, \"ticks\": \"\"}, \"colorscale\": [[0.0, \"#0d0887\"], [0.1111111111111111, \"#46039f\"], [0.2222222222222222, \"#7201a8\"], [0.3333333333333333, \"#9c179e\"], [0.4444444444444444, \"#bd3786\"], [0.5555555555555556, \"#d8576b\"], [0.6666666666666666, \"#ed7953\"], [0.7777777777777778, \"#fb9f3a\"], [0.8888888888888888, \"#fdca26\"], [1.0, \"#f0f921\"]], \"type\": \"surface\"}], \"table\": [{\"cells\": {\"fill\": {\"color\": \"#EBF0F8\"}, \"line\": {\"color\": \"white\"}}, \"header\": {\"fill\": {\"color\": \"#C8D4E3\"}, \"line\": {\"color\": \"white\"}}, \"type\": \"table\"}]}, \"layout\": {\"annotationdefaults\": {\"arrowcolor\": \"#2a3f5f\", \"arrowhead\": 0, \"arrowwidth\": 1}, \"coloraxis\": {\"colorbar\": {\"outlinewidth\": 0, \"ticks\": \"\"}}, \"colorscale\": {\"diverging\": [[0, \"#8e0152\"], [0.1, \"#c51b7d\"], [0.2, \"#de77ae\"], [0.3, \"#f1b6da\"], [0.4, \"#fde0ef\"], [0.5, \"#f7f7f7\"], [0.6, \"#e6f5d0\"], [0.7, \"#b8e186\"], [0.8, \"#7fbc41\"], [0.9, \"#4d9221\"], [1, \"#276419\"]], \"sequential\": [[0.0, \"#0d0887\"], [0.1111111111111111, \"#46039f\"], [0.2222222222222222, \"#7201a8\"], [0.3333333333333333, \"#9c179e\"], [0.4444444444444444, \"#bd3786\"], [0.5555555555555556, \"#d8576b\"], [0.6666666666666666, \"#ed7953\"], [0.7777777777777778, \"#fb9f3a\"], [0.8888888888888888, \"#fdca26\"], [1.0, \"#f0f921\"]], \"sequentialminus\": [[0.0, \"#0d0887\"], [0.1111111111111111, \"#46039f\"], [0.2222222222222222, \"#7201a8\"], [0.3333333333333333, \"#9c179e\"], [0.4444444444444444, \"#bd3786\"], [0.5555555555555556, \"#d8576b\"], [0.6666666666666666, \"#ed7953\"], [0.7777777777777778, \"#fb9f3a\"], [0.8888888888888888, \"#fdca26\"], [1.0, \"#f0f921\"]]}, \"colorway\": [\"#636efa\", \"#EF553B\", \"#00cc96\", \"#ab63fa\", \"#FFA15A\", \"#19d3f3\", \"#FF6692\", \"#B6E880\", \"#FF97FF\", \"#FECB52\"], \"font\": {\"color\": \"#2a3f5f\"}, \"geo\": {\"bgcolor\": \"white\", \"lakecolor\": \"white\", \"landcolor\": \"#E5ECF6\", \"showlakes\": true, \"showland\": true, \"subunitcolor\": \"white\"}, \"hoverlabel\": {\"align\": \"left\"}, \"hovermode\": \"closest\", \"mapbox\": {\"style\": \"light\"}, \"paper_bgcolor\": \"white\", \"plot_bgcolor\": \"#E5ECF6\", \"polar\": {\"angularaxis\": {\"gridcolor\": \"white\", \"linecolor\": \"white\", \"ticks\": \"\"}, \"bgcolor\": \"#E5ECF6\", \"radialaxis\": {\"gridcolor\": \"white\", \"linecolor\": \"white\", \"ticks\": \"\"}}, \"scene\": {\"xaxis\": {\"backgroundcolor\": \"#E5ECF6\", \"gridcolor\": \"white\", \"gridwidth\": 2, \"linecolor\": \"white\", \"showbackground\": true, \"ticks\": \"\", \"zerolinecolor\": \"white\"}, \"yaxis\": {\"backgroundcolor\": \"#E5ECF6\", \"gridcolor\": \"white\", \"gridwidth\": 2, \"linecolor\": \"white\", \"showbackground\": true, \"ticks\": \"\", \"zerolinecolor\": \"white\"}, \"zaxis\": {\"backgroundcolor\": \"#E5ECF6\", \"gridcolor\": \"white\", \"gridwidth\": 2, \"linecolor\": \"white\", \"showbackground\": true, \"ticks\": \"\", \"zerolinecolor\": \"white\"}}, \"shapedefaults\": {\"line\": {\"color\": \"#2a3f5f\"}}, \"ternary\": {\"aaxis\": {\"gridcolor\": \"white\", \"linecolor\": \"white\", \"ticks\": \"\"}, \"baxis\": {\"gridcolor\": \"white\", \"linecolor\": \"white\", \"ticks\": \"\"}, \"bgcolor\": \"#E5ECF6\", \"caxis\": {\"gridcolor\": \"white\", \"linecolor\": \"white\", \"ticks\": \"\"}}, \"title\": {\"x\": 0.05}, \"xaxis\": {\"automargin\": true, \"gridcolor\": \"white\", \"linecolor\": \"white\", \"ticks\": \"\", \"title\": {\"standoff\": 15}, \"zerolinecolor\": \"white\", \"zerolinewidth\": 2}, \"yaxis\": {\"automargin\": true, \"gridcolor\": \"white\", \"linecolor\": \"white\", \"ticks\": \"\", \"title\": {\"standoff\": 15}, \"zerolinecolor\": \"white\", \"zerolinewidth\": 2}}}, \"xaxis\": {\"anchor\": \"y\", \"domain\": [0.0, 0.48], \"title\": {\"text\": \"eval_data\"}}, \"xaxis2\": {\"anchor\": \"y2\", \"domain\": [0.5, 0.98], \"matches\": \"x\", \"title\": {\"text\": \"eval_data\"}}, \"xaxis3\": {\"anchor\": \"y3\", \"domain\": [0.0, 0.48], \"matches\": \"x\", \"showticklabels\": false}, \"xaxis4\": {\"anchor\": \"y4\", \"domain\": [0.5, 0.98], \"matches\": \"x\", \"showticklabels\": false}, \"yaxis\": {\"anchor\": \"x\", \"domain\": [0.0, 0.485], \"title\": {\"text\": \"bleu\"}}, \"yaxis2\": {\"anchor\": \"x2\", \"domain\": [0.0, 0.485], \"matches\": \"y\", \"showticklabels\": false}, \"yaxis3\": {\"anchor\": \"x3\", \"domain\": [0.515, 1.0], \"matches\": \"y\", \"title\": {\"text\": \"bleu\"}}, \"yaxis4\": {\"anchor\": \"x4\", \"domain\": [0.515, 1.0], \"matches\": \"y\", \"showticklabels\": false}},\n",
              "                        {\"responsive\": true}\n",
              "                    ).then(function(){\n",
              "                            \n",
              "var gd = document.getElementById('e807e29d-2356-4a5d-8f55-510b47f54fab');\n",
              "var x = new MutationObserver(function (mutations, observer) {{\n",
              "        var display = window.getComputedStyle(gd).display;\n",
              "        if (!display || display === 'none') {{\n",
              "            console.log([gd, 'removed!']);\n",
              "            Plotly.purge(gd);\n",
              "            observer.disconnect();\n",
              "        }}\n",
              "}});\n",
              "\n",
              "// Listen for the removal of the full notebook cells\n",
              "var notebookContainer = gd.closest('#notebook-container');\n",
              "if (notebookContainer) {{\n",
              "    x.observe(notebookContainer, {childList: true});\n",
              "}}\n",
              "\n",
              "// Listen for the clearing of the current output cell\n",
              "var outputEl = gd.closest('.output');\n",
              "if (outputEl) {{\n",
              "    x.observe(outputEl, {childList: true});\n",
              "}}\n",
              "\n",
              "                        })\n",
              "                };\n",
              "                \n",
              "            </script>\n",
              "        </div>\n",
              "</body>\n",
              "</html>"
            ]
          },
          "metadata": {
            "tags": []
          }
        }
      ]
    },
    {
      "cell_type": "code",
      "metadata": {
        "id": "vyvVoltVol8a"
      },
      "source": [
        ""
      ],
      "execution_count": null,
      "outputs": []
    }
  ]
}