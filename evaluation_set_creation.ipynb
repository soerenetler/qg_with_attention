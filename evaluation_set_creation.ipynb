{
  "nbformat": 4,
  "nbformat_minor": 0,
  "metadata": {
    "colab": {
      "name": "Untitled15.ipynb",
      "provenance": [],
      "authorship_tag": "ABX9TyNoJYKqs576FN94lW0bYXj1",
      "include_colab_link": true
    },
    "kernelspec": {
      "name": "python3",
      "display_name": "Python 3"
    },
    "language_info": {
      "name": "python"
    }
  },
  "cells": [
    {
      "cell_type": "markdown",
      "metadata": {
        "id": "view-in-github",
        "colab_type": "text"
      },
      "source": [
        "<a href=\"https://colab.research.google.com/github/soerenetler/qg_with_attention/blob/master/evaluation_set_creation.ipynb\" target=\"_parent\"><img src=\"https://colab.research.google.com/assets/colab-badge.svg\" alt=\"Open In Colab\"/></a>"
      ]
    },
    {
      "cell_type": "code",
      "metadata": {
        "colab": {
          "base_uri": "https://localhost:8080/"
        },
        "id": "23o6xzKdtkEt",
        "outputId": "cf78d4f2-5f0b-4838-ca34-c9902459d853"
      },
      "source": [
        "import os\n",
        "os.system(\"git clone https://github.com/soerenetler/qg_with_attention.git\")\n",
        "\n",
        "from google.colab import drive\n",
        "drive.mount('/content/gdrive')"
      ],
      "execution_count": 1,
      "outputs": [
        {
          "output_type": "stream",
          "text": [
            "Mounted at /content/gdrive\n"
          ],
          "name": "stdout"
        }
      ]
    },
    {
      "cell_type": "code",
      "metadata": {
        "id": "zAREEJ2etTSn"
      },
      "source": [
        "import pandas as pd\n",
        "import ast\n",
        "dataset = \"quac\""
      ],
      "execution_count": 2,
      "outputs": []
    },
    {
      "cell_type": "markdown",
      "metadata": {
        "id": "fzx0CBtttrLf"
      },
      "source": [
        "# Human Data"
      ]
    },
    {
      "cell_type": "code",
      "metadata": {
        "id": "WaFzpwlttb5I"
      },
      "source": [
        "filepath = \"/content/gdrive/MyDrive/mt-qg-data/01_data/preprocessedData/\" + dataset + \"/question_answer/test.csv\"\n",
        "human_df = pd.read_csv(filepath)[[\"question_text\", \"answer_sentence\", \"answer\"]]"
      ],
      "execution_count": 3,
      "outputs": []
    },
    {
      "cell_type": "code",
      "metadata": {
        "id": "RRYUvEeFuSYy"
      },
      "source": [
        "human_df = human_df.sample(100)\n",
        "human_df.to_csv(\"h_human_evaluation.csv\")"
      ],
      "execution_count": 4,
      "outputs": []
    },
    {
      "cell_type": "markdown",
      "metadata": {
        "id": "oZvRyFM6vXTY"
      },
      "source": [
        "# E2E Data"
      ]
    },
    {
      "cell_type": "code",
      "metadata": {
        "id": "GcAOKtLvup-M"
      },
      "source": [
        "data_filepath = \"/content/gdrive/MyDrive/mt-qg-data/01_data/preprocessedData/\" + dataset + \"/question_answer/test.csv\"\n",
        "pred_filepath = \"/content/gdrive/MyDrive/mt-qg-data/00_models/qg_attention/\" + dataset + \"/dataset_quac-target_length_20-input_length_40-vocab_input_45000-max_vocab_targ_28000-epochs_15-units_512-batch_64-layer_2-dropout_0.3-pretrained_True-bidirectional_True-answer_units_0-/test.txt\"\n",
        "\n",
        "e2e_df = pd.read_csv(filepath)[[\"answer_sentence\", \"answer\"]]\n",
        "\n",
        "pred_questions= []\n",
        "with open(pred_filepath, \"r\") as f:\n",
        "  for line in f:\n",
        "    token = line.strip().split(\" \")\n",
        "    try:\n",
        "      end_index = token.index(\"<end>\")\n",
        "    except ValueError:\n",
        "      end_index = len(token)\n",
        "    pred_questions.append(\" \".join(token[:end_index]))\n",
        "\n",
        "\n",
        "e2e_df[\"question_text\"] = pred_questions\n",
        "e2e_df = e2e_df.sample(100)"
      ],
      "execution_count": 6,
      "outputs": []
    },
    {
      "cell_type": "code",
      "metadata": {
        "colab": {
          "base_uri": "https://localhost:8080/",
          "height": 206
        },
        "id": "p4n4zvguwekc",
        "outputId": "b07bcbf0-2d83-4f50-cad1-1f64a7b2209c"
      },
      "source": [
        "e2e_df.head()"
      ],
      "execution_count": 7,
      "outputs": [
        {
          "output_type": "execute_result",
          "data": {
            "text/html": [
              "<div>\n",
              "<style scoped>\n",
              "    .dataframe tbody tr th:only-of-type {\n",
              "        vertical-align: middle;\n",
              "    }\n",
              "\n",
              "    .dataframe tbody tr th {\n",
              "        vertical-align: top;\n",
              "    }\n",
              "\n",
              "    .dataframe thead th {\n",
              "        text-align: right;\n",
              "    }\n",
              "</style>\n",
              "<table border=\"1\" class=\"dataframe\">\n",
              "  <thead>\n",
              "    <tr style=\"text-align: right;\">\n",
              "      <th></th>\n",
              "      <th>answer_sentence</th>\n",
              "      <th>answer</th>\n",
              "      <th>question_text</th>\n",
              "    </tr>\n",
              "  </thead>\n",
              "  <tbody>\n",
              "    <tr>\n",
              "      <th>25390</th>\n",
              "      <td>In 2003 he approached Amadou &amp; Mariam and late...</td>\n",
              "      <td>In 2003 he approached Amadou &amp; Mariam and late...</td>\n",
              "      <td>what was the name of deyoung 's solo album ?</td>\n",
              "    </tr>\n",
              "    <tr>\n",
              "      <th>25469</th>\n",
              "      <td>This decision was reached after a lagging fund...</td>\n",
              "      <td>lagging fundraising effort and polls that show...</td>\n",
              "      <td>did she win ?</td>\n",
              "    </tr>\n",
              "    <tr>\n",
              "      <th>18269</th>\n",
              "      <td>The second single released from the album, \"Se...</td>\n",
              "      <td>Self Esteem</td>\n",
              "      <td>was the album successful ?</td>\n",
              "    </tr>\n",
              "    <tr>\n",
              "      <th>18172</th>\n",
              "      <td>In a November 1, 2005, column for National Rev...</td>\n",
              "      <td>In a November 1, 2005, column for National Rev...</td>\n",
              "      <td>what else did he do ?</td>\n",
              "    </tr>\n",
              "    <tr>\n",
              "      <th>10376</th>\n",
              "      <td>In real life, Ziegfeld did not die in his room...</td>\n",
              "      <td>In real life, Ziegfeld did not die in his room...</td>\n",
              "      <td>where did he live ?</td>\n",
              "    </tr>\n",
              "  </tbody>\n",
              "</table>\n",
              "</div>"
            ],
            "text/plain": [
              "                                         answer_sentence  ...                                 question_text\n",
              "25390  In 2003 he approached Amadou & Mariam and late...  ...  what was the name of deyoung 's solo album ?\n",
              "25469  This decision was reached after a lagging fund...  ...                                 did she win ?\n",
              "18269  The second single released from the album, \"Se...  ...                    was the album successful ?\n",
              "18172  In a November 1, 2005, column for National Rev...  ...                         what else did he do ?\n",
              "10376  In real life, Ziegfeld did not die in his room...  ...                           where did he live ?\n",
              "\n",
              "[5 rows x 3 columns]"
            ]
          },
          "metadata": {
            "tags": []
          },
          "execution_count": 7
        }
      ]
    },
    {
      "cell_type": "code",
      "metadata": {
        "id": "X_poZhv6wopr"
      },
      "source": [
        "e2e_df.to_csv(\"e2e_human_evaluation.csv\")"
      ],
      "execution_count": 8,
      "outputs": []
    },
    {
      "cell_type": "markdown",
      "metadata": {
        "id": "EorhRq58wvC2"
      },
      "source": [
        "# Answer Separated Data"
      ]
    },
    {
      "cell_type": "code",
      "metadata": {
        "id": "FhNVpA0JwzSW"
      },
      "source": [
        "data_filepath = \"/content/gdrive/MyDrive/mt-qg-data/01_data/preprocessedData/\" + dataset + \"/question_answer/test.csv\"\n",
        "pred_filepath = \"/content/gdrive/MyDrive/mt-qg-data/00_models/qg_attention/\" + dataset + \"/dataset_quac-target_length_20-input_length_40-vocab_input_45000-max_vocab_targ_28000-epochs_15-units_512-batch_64-layer_1-dropout_0.3-pretrained_True-bidirectional_True-answer_units_256-/test.txt\"\n",
        "\n",
        "\n",
        "ans_df = pd.read_csv(filepath)[[\"answer_sentence\", \"answer\"]]\n",
        "\n",
        "pred_questions= []\n",
        "with open(pred_filepath, \"r\") as f:\n",
        "  for line in f:\n",
        "    token = line.strip().split(\" \")\n",
        "    try:\n",
        "      end_index = token.index(\"<end>\")\n",
        "    except ValueError:\n",
        "      end_index = len(token)\n",
        "    pred_questions.append(\" \".join(token[:end_index]))\n",
        "\n",
        "\n",
        "ans_df[\"question_text\"] = pred_questions"
      ],
      "execution_count": 9,
      "outputs": []
    },
    {
      "cell_type": "code",
      "metadata": {
        "id": "WkixqP8OxW7F"
      },
      "source": [
        "ans_df = ans_df.sample(100)"
      ],
      "execution_count": 10,
      "outputs": []
    },
    {
      "cell_type": "code",
      "metadata": {
        "id": "1RY9YTEOxboC"
      },
      "source": [
        "ans_df.to_csv(\"ans_human_evaluation.csv\")"
      ],
      "execution_count": 11,
      "outputs": []
    },
    {
      "cell_type": "markdown",
      "metadata": {
        "id": "fkmMYcI5x0ke"
      },
      "source": [
        "# Pipeline Data"
      ]
    },
    {
      "cell_type": "code",
      "metadata": {
        "id": "aghRNukQxzFR"
      },
      "source": [
        "data_filepath = \"/content/gdrive/MyDrive/mt-qg-data/01_data/preprocessedData/\" + dataset + \"/question_answer/trf_test.csv\"\n",
        "pred_filepath = \"/content/gdrive/MyDrive/mt-qg-data/00_models/qg_attention/\" + dataset + \"/dataset_quac-target_length_20-input_length_40-vocab_input_45000-max_vocab_targ_28000-epochs_15-units_512-batch_64-layer_1-dropout_0.3-pretrained_True-bidirectional_True-answer_units_256-/trf_test.txt\"\n",
        "\n",
        "\n",
        "pipe_df = pd.read_csv(data_filepath)[[\"answer_sentence_token\", \"answer\"]]\n",
        "pipe_df[\"answer_sentence_token\"]  = [ast.literal_eval(t) for t in pipe_df[\"answer_sentence_token\"]]\n",
        "\n",
        "pred_questions= []\n",
        "with open(pred_filepath, \"r\") as f:\n",
        "  for line in f:\n",
        "    token = line.strip().split(\" \")\n",
        "    try:\n",
        "      end_index = token.index(\"<end>\")\n",
        "    except ValueError:\n",
        "      end_index = len(token)\n",
        "    pred_questions.append(\" \".join(token[:end_index]))\n",
        "\n",
        "pipe_df[\"answer_sentence\"] = [\" \".join(t) for t in pipe_df[\"answer_sentence_token\"]]\n",
        "pipe_df.drop(\"answer_sentence_token\", axis=1, inplace=True)\n",
        "pipe_df[\"question_text\"] = pred_questions\n",
        "pipe_df = pipe_df.sample(100)"
      ],
      "execution_count": 12,
      "outputs": []
    },
    {
      "cell_type": "code",
      "metadata": {
        "colab": {
          "base_uri": "https://localhost:8080/",
          "height": 206
        },
        "id": "RxOdaUDwy0o6",
        "outputId": "79e366ce-58ca-45b5-8a5e-17a87950dd1d"
      },
      "source": [
        "pipe_df.head()"
      ],
      "execution_count": 13,
      "outputs": [
        {
          "output_type": "execute_result",
          "data": {
            "text/html": [
              "<div>\n",
              "<style scoped>\n",
              "    .dataframe tbody tr th:only-of-type {\n",
              "        vertical-align: middle;\n",
              "    }\n",
              "\n",
              "    .dataframe tbody tr th {\n",
              "        vertical-align: top;\n",
              "    }\n",
              "\n",
              "    .dataframe thead th {\n",
              "        text-align: right;\n",
              "    }\n",
              "</style>\n",
              "<table border=\"1\" class=\"dataframe\">\n",
              "  <thead>\n",
              "    <tr style=\"text-align: right;\">\n",
              "      <th></th>\n",
              "      <th>answer</th>\n",
              "      <th>answer_sentence</th>\n",
              "      <th>question_text</th>\n",
              "    </tr>\n",
              "  </thead>\n",
              "  <tbody>\n",
              "    <tr>\n",
              "      <th>1999</th>\n",
              "      <td>He had developed a gastric ulcer , and his hea...</td>\n",
              "      <td>He had developed a gastric ulcer , and his hea...</td>\n",
              "      <td>what else did he do ?</td>\n",
              "    </tr>\n",
              "    <tr>\n",
              "      <th>1949</th>\n",
              "      <td>In 1981 DC began publishing All - Star Squadro...</td>\n",
              "      <td>In 1981 DC began publishing All - Star Squadro...</td>\n",
              "      <td>what did he do next</td>\n",
              "    </tr>\n",
              "    <tr>\n",
              "      <th>446</th>\n",
              "      <td>He wrote three episodes of Murder Most Horrid ...</td>\n",
              "      <td>He wrote three episodes of Murder Most Horrid ...</td>\n",
              "      <td>what did he do next ?</td>\n",
              "    </tr>\n",
              "    <tr>\n",
              "      <th>1664</th>\n",
              "      <td>He made his film debut in 1979 , playing Diane...</td>\n",
              "      <td>He made his film debut in 1979 , playing Diane...</td>\n",
              "      <td>what did he do after that ?</td>\n",
              "    </tr>\n",
              "    <tr>\n",
              "      <th>312</th>\n",
              "      <td>Mallory participated in the initial 1921 Briti...</td>\n",
              "      <td>Mallory participated in the initial 1921 Briti...</td>\n",
              "      <td>what did he do after that ?</td>\n",
              "    </tr>\n",
              "  </tbody>\n",
              "</table>\n",
              "</div>"
            ],
            "text/plain": [
              "                                                 answer  ...                question_text\n",
              "1999  He had developed a gastric ulcer , and his hea...  ...        what else did he do ?\n",
              "1949  In 1981 DC began publishing All - Star Squadro...  ...          what did he do next\n",
              "446   He wrote three episodes of Murder Most Horrid ...  ...        what did he do next ?\n",
              "1664  He made his film debut in 1979 , playing Diane...  ...  what did he do after that ?\n",
              "312   Mallory participated in the initial 1921 Briti...  ...  what did he do after that ?\n",
              "\n",
              "[5 rows x 3 columns]"
            ]
          },
          "metadata": {
            "tags": []
          },
          "execution_count": 13
        }
      ]
    },
    {
      "cell_type": "code",
      "metadata": {
        "id": "pklEknKZxcoJ"
      },
      "source": [
        "pipe_df.to_csv(\"pipe_human_evaluation.csv\")"
      ],
      "execution_count": 14,
      "outputs": []
    },
    {
      "cell_type": "code",
      "metadata": {
        "id": "4Zsgd9y0ydX8"
      },
      "source": [
        ""
      ],
      "execution_count": 14,
      "outputs": []
    },
    {
      "cell_type": "code",
      "metadata": {
        "id": "gA7Ky9C_ydwj"
      },
      "source": [
        ""
      ],
      "execution_count": null,
      "outputs": []
    }
  ]
}